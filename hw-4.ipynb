{
 "cells": [
  {
   "cell_type": "code",
   "execution_count": null,
   "metadata": {},
   "outputs": [],
   "source": [
    "%matplotlib inline\n",
    "import matplotlib.pyplot as plt\n",
    "import numpy as np"
   ]
  },
  {
   "cell_type": "code",
   "execution_count": null,
   "metadata": {},
   "outputs": [],
   "source": [
    "#f(x) = 1.01x^2 - 3.04x + 2.07\n",
    "#bisection function\n",
    "def bisection(function, interval_a, interval_b):\n",
    "    #if the functions \n",
    "    bisection.counter += 1\n",
    "    if(function(interval_a)*function(interval_b) > 0): #happens if brackets don't contain roots, garuntees at least one root for the rest of the function \n",
    "        return None\n",
    "    \n",
    "\n",
    "    \n",
    "    mid = (interval_a + interval_b)/2\n",
    "    sol = mid\n",
    "    if(abs(function(mid)) <= 0.0000001):\n",
    "        return sol\n",
    "    else:\n",
    "        if(function(interval_a)*function(mid) > 0):\n",
    "            print(\"Left Bracket: \", mid, \" Right Bracket: \", interval_b, \"\\n\")\n",
    "            return bisection(function, mid, interval_b)\n",
    "        else:\n",
    "            print(\"Left Bracket: \", interval_a, \" Right Bracket: \", mid, \"\\n\")\n",
    "            return bisection(function, interval_a, mid)\n",
    "\n",
    "\n",
    "    \n",
    "\n"
   ]
  },
  {
   "cell_type": "code",
   "execution_count": null,
   "metadata": {},
   "outputs": [],
   "source": [
    "#plotting things\n",
    "x = np.linspace(0, 3, 1000) #make an array between 0 and 2pi\n",
    "f1 = lambda x: 1.01*x**2-3.04*x+2.07\n",
    "f2 = 0\n",
    "a = 0.0\n",
    "b = 1.5\n",
    "bisection.counter = 0\n",
    "if(bisection(f1, a, b) == None):\n",
    "    print(\"No Root in Provided Interval\")\n",
    "else:\n",
    "    print(bisection(f1, a, b))\n",
    "    print (\"Number of Iterations: \", bisection.counter)\n",
    "\n",
    "#f1 = 1.01*x**2-3.04*x+2.07\n",
    "plt.plot(x, f1(x), label=\"Function 1\") #plots\n",
    "plt.plot(x, np.linspace(0,0, 1000), label = \"y = 0\")\n",
    "plt.plot([1.0, 1.5], [0, 0], 'ro') #initial values for bracketting\n",
    "plt.xlim([0,3])\n",
    "plt.ylim([-0.5,2.1])\n",
    "plt.xlabel(\"X-axis\") #labels\n",
    "plt.ylabel(\"Y-axis\")\n",
    "plt.legend() #adds a legend"
   ]
  },
  {
   "cell_type": "code",
   "execution_count": null,
   "metadata": {},
   "outputs": [],
   "source": []
  }
 ],
 "metadata": {
  "kernelspec": {
   "display_name": "Python 3",
   "language": "python",
   "name": "python3"
  },
  "language_info": {
   "codemirror_mode": {
    "name": "ipython",
    "version": 3
   },
   "file_extension": ".py",
   "mimetype": "text/x-python",
   "name": "python",
   "nbconvert_exporter": "python",
   "pygments_lexer": "ipython3",
   "version": "3.8.3-final"
  }
 },
 "nbformat": 4,
 "nbformat_minor": 4
}